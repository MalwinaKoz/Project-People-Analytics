{
 "cells": [
  {
   "cell_type": "code",
   "execution_count": 1,
   "metadata": {},
   "outputs": [],
   "source": [
    "import pandas as pd"
   ]
  },
  {
   "cell_type": "code",
   "execution_count": 2,
   "metadata": {},
   "outputs": [],
   "source": [
    "selected_data = pd.read_csv(\"../data/02_Interim/01_SelectedFeutures.csv\")"
   ]
  },
  {
   "cell_type": "code",
   "execution_count": 3,
   "metadata": {},
   "outputs": [],
   "source": [
    "selected_data.set_index('ID',drop=True,inplace=True)\n",
    "selected_data.rename(columns={\"W jaki sposób chcesz uczestniczyć w Community?\": \"Uczestnictwo\"},inplace=True)"
   ]
  },
  {
   "cell_type": "code",
   "execution_count": 4,
   "metadata": {},
   "outputs": [
    {
     "data": {
      "text/plain": [
       "array(['Chcę uczestniczyć w projekcie data i organizować \"życie\" Community',\n",
       "       'Chcę uczestniczyć w projekcie data',\n",
       "       'Póki co chcę czerpać, obserwować, \"konsumować content\"',\n",
       "       'Chcę organizować \"życie\" Community'], dtype=object)"
      ]
     },
     "execution_count": 4,
     "metadata": {},
     "output_type": "execute_result"
    }
   ],
   "source": [
    "selected_data['Uczestnictwo'].unique()"
   ]
  },
  {
   "cell_type": "code",
   "execution_count": 5,
   "metadata": {},
   "outputs": [],
   "source": [
    "selected_data['Uczestnictwo'].replace({'Chcę uczestniczyć w projekcie data i organizować \"życie\" Community': 'Aktywne', \n",
    "                                       'Chcę uczestniczyć w projekcie data': 'Aktywne','Chcę organizować \"życie\" Community':'Bierne'},inplace=True)"
   ]
  },
  {
   "cell_type": "code",
   "execution_count": 6,
   "metadata": {},
   "outputs": [],
   "source": [
    "selected_data = selected_data.loc[selected_data['Uczestnictwo'] != 'Póki co chcę czerpać, obserwować, \"konsumować content\"']"
   ]
  },
  {
   "cell_type": "code",
   "execution_count": 7,
   "metadata": {},
   "outputs": [],
   "source": [
    "selected_data.to_csv(\"../data/03_Processed/01_ProcessedData.csv\", index=False)"
   ]
  }
 ],
 "metadata": {
  "kernelspec": {
   "display_name": "Python 3",
   "language": "python",
   "name": "python3"
  },
  "language_info": {
   "codemirror_mode": {
    "name": "ipython",
    "version": 3
   },
   "file_extension": ".py",
   "mimetype": "text/x-python",
   "name": "python",
   "nbconvert_exporter": "python",
   "pygments_lexer": "ipython3",
   "version": "3.11.5"
  }
 },
 "nbformat": 4,
 "nbformat_minor": 2
}
